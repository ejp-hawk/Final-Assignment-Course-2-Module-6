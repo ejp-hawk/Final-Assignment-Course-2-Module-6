{
 "cells": [
  {
   "cell_type": "markdown",
   "id": "9b5683dc",
   "metadata": {},
   "source": [
    "# Data Science Tools and Ecosystem"
   ]
  },
  {
   "cell_type": "markdown",
   "id": "3b4897cd",
   "metadata": {},
   "source": [
    "In this notebook, Data Science Tools and Ecosystem are summarized."
   ]
  },
  {
   "cell_type": "markdown",
   "id": "4e7ba4c0",
   "metadata": {},
   "source": [
    "Some of the popular languages that Data Scientists use are:\n",
    "1. Python\n",
    "2. SQL\n",
    "3. R"
   ]
  },
  {
   "cell_type": "markdown",
   "id": "328c71d3",
   "metadata": {},
   "source": [
    "Some of the commonly used libraries used by Data Scientists include:\n",
    "1. Seaborn\n",
    "2. NumPY\n",
    "3. Matplotlib\n",
    "4. ggplot2"
   ]
  },
  {
   "cell_type": "markdown",
   "id": "7f3c1725",
   "metadata": {},
   "source": [
    "|Data Science Tools|\n",
    "| ------ |\n",
    "|Apache Spark|\n",
    "|Tableau|\n",
    "|mySQL Workbench|\n",
    "|Github|\n"
   ]
  },
  {
   "cell_type": "markdown",
   "id": "e3bb20ab",
   "metadata": {},
   "source": [
    "### Below are a few examples of evaluating arithmetic expressions in Python:"
   ]
  },
  {
   "cell_type": "code",
   "execution_count": 2,
   "id": "ee01b603",
   "metadata": {},
   "outputs": [
    {
     "name": "stdout",
     "output_type": "stream",
     "text": [
      "32\n"
     ]
    }
   ],
   "source": [
    "z = 4 ** 2\n",
    "print(z*2)"
   ]
  },
  {
   "cell_type": "code",
   "execution_count": 4,
   "id": "0be4ff19",
   "metadata": {},
   "outputs": [
    {
     "name": "stdout",
     "output_type": "stream",
     "text": [
      "7\n"
     ]
    }
   ],
   "source": [
    "y = 4 + 5 + 3 + 2 + 1\n",
    "Z = y // 2\n",
    "print(Z)"
   ]
  },
  {
   "cell_type": "code",
   "execution_count": 5,
   "id": "eb962c9f",
   "metadata": {},
   "outputs": [
    {
     "name": "stdout",
     "output_type": "stream",
     "text": [
      "1\n"
     ]
    }
   ],
   "source": [
    "m = 4 % 3\n",
    "print(m ** 3)"
   ]
  },
  {
   "cell_type": "code",
   "execution_count": 6,
   "id": "440b5264",
   "metadata": {},
   "outputs": [
    {
     "data": {
      "text/plain": [
       "17"
      ]
     },
     "execution_count": 6,
     "metadata": {},
     "output_type": "execute_result"
    }
   ],
   "source": [
    "#This a simple arithmetic expression to mutiply then add integers\n",
    "(3*4)+5"
   ]
  },
  {
   "cell_type": "code",
   "execution_count": 14,
   "id": "55a53886",
   "metadata": {},
   "outputs": [
    {
     "name": "stdout",
     "output_type": "stream",
     "text": [
      "200 minutes equals 3 hours\n"
     ]
    }
   ],
   "source": [
    "#This will convert 200 minutes to hours by diving by 60\n",
    "z = 200/60\n",
    "print(\"200 minutes equals \" + str(round(z)) + \" hours\")"
   ]
  },
  {
   "cell_type": "markdown",
   "id": "bfec24d1",
   "metadata": {},
   "source": [
    "**Objectives:**\n",
    "Some of the commonly used libraries used by Data Scientists include:\n",
    "* Seaborn\n",
    "* NumPY\n",
    "* Matplotlib\n",
    "* ggplot2\n"
   ]
  },
  {
   "cell_type": "markdown",
   "id": "8e9d157b",
   "metadata": {},
   "source": [
    "## Author\n",
    "EJP"
   ]
  },
  {
   "cell_type": "code",
   "execution_count": null,
   "id": "afbfbffe",
   "metadata": {},
   "outputs": [],
   "source": []
  }
 ],
 "metadata": {
  "kernelspec": {
   "display_name": "Python 3 (ipykernel)",
   "language": "python",
   "name": "python3"
  },
  "language_info": {
   "codemirror_mode": {
    "name": "ipython",
    "version": 3
   },
   "file_extension": ".py",
   "mimetype": "text/x-python",
   "name": "python",
   "nbconvert_exporter": "python",
   "pygments_lexer": "ipython3",
   "version": "3.11.5"
  }
 },
 "nbformat": 4,
 "nbformat_minor": 5
}
